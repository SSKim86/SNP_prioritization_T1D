{
 "cells": [
  {
   "cell_type": "markdown",
   "metadata": {},
   "source": [
    "# Collapse gtex tissue annotation"
   ]
  },
  {
   "cell_type": "code",
   "execution_count": 21,
   "metadata": {},
   "outputs": [
    {
     "name": "stdout",
     "output_type": "stream",
     "text": [
      "[1] 29785     9\n"
     ]
    },
    {
     "data": {
      "text/html": [
       "<table>\n",
       "<thead><tr><th scope=col>variant_id</th><th scope=col>gene_id</th><th scope=col>pval_nominal</th><th scope=col>slope</th><th scope=col>slope_se</th><th scope=col>tissue</th><th scope=col>chr</th><th scope=col>variant_pos</th><th scope=col>rsid</th></tr></thead>\n",
       "<tbody>\n",
       "\t<tr><td>1_114426001_G_A_b37          </td><td>ENSG00000226167.1            </td><td>2.58854e-10                  </td><td>-0.498565                    </td><td>0.0756303                    </td><td>Cells_Transformed_fibroblasts</td><td>1                            </td><td>114426001                    </td><td>rs11102694                   </td></tr>\n",
       "\t<tr><td>1_114429461_G_A_b37          </td><td>ENSG00000226167.1            </td><td>8.37389e-11                  </td><td>-0.510813                    </td><td>0.0752620                    </td><td>Cells_Transformed_fibroblasts</td><td>1                            </td><td>114429461                    </td><td>rs2358994                    </td></tr>\n",
       "\t<tr><td>1_114429515_A_C_b37          </td><td>ENSG00000226167.1            </td><td>7.56856e-11                  </td><td>-0.513570                    </td><td>0.0754759                    </td><td>Cells_Transformed_fibroblasts</td><td>1                            </td><td>114429515                    </td><td>rs2358995                    </td></tr>\n",
       "\t<tr><td>1_114431463_G_A_b37          </td><td>ENSG00000226167.1            </td><td>3.54926e-10                  </td><td>-0.495715                    </td><td>0.0758333                    </td><td>Cells_Transformed_fibroblasts</td><td>1                            </td><td>114431463                    </td><td>rs7547478                    </td></tr>\n",
       "\t<tr><td>1_114445880_G_A_b37          </td><td>ENSG00000226167.1            </td><td>5.32221e-11                  </td><td>-0.513291                    </td><td>0.0747756                    </td><td>Cells_Transformed_fibroblasts</td><td>1                            </td><td>114445880                    </td><td>rs7513707                    </td></tr>\n",
       "\t<tr><td>1_114448389_C_T_b37          </td><td>ENSG00000226167.1            </td><td>2.40206e-11                  </td><td>-0.526891                    </td><td>0.0752834                    </td><td>Cells_Transformed_fibroblasts</td><td>1                            </td><td>114448389                    </td><td>rs11552449                   </td></tr>\n",
       "</tbody>\n",
       "</table>\n"
      ],
      "text/latex": [
       "\\begin{tabular}{r|lllllllll}\n",
       " variant\\_id & gene\\_id & pval\\_nominal & slope & slope\\_se & tissue & chr & variant\\_pos & rsid\\\\\n",
       "\\hline\n",
       "\t 1\\_114426001\\_G\\_A\\_b37       & ENSG00000226167.1                 & 2.58854e-10                       & -0.498565                         & 0.0756303                         & Cells\\_Transformed\\_fibroblasts & 1                                 & 114426001                         & rs11102694                       \\\\\n",
       "\t 1\\_114429461\\_G\\_A\\_b37       & ENSG00000226167.1                 & 8.37389e-11                       & -0.510813                         & 0.0752620                         & Cells\\_Transformed\\_fibroblasts & 1                                 & 114429461                         & rs2358994                        \\\\\n",
       "\t 1\\_114429515\\_A\\_C\\_b37       & ENSG00000226167.1                 & 7.56856e-11                       & -0.513570                         & 0.0754759                         & Cells\\_Transformed\\_fibroblasts & 1                                 & 114429515                         & rs2358995                        \\\\\n",
       "\t 1\\_114431463\\_G\\_A\\_b37       & ENSG00000226167.1                 & 3.54926e-10                       & -0.495715                         & 0.0758333                         & Cells\\_Transformed\\_fibroblasts & 1                                 & 114431463                         & rs7547478                        \\\\\n",
       "\t 1\\_114445880\\_G\\_A\\_b37       & ENSG00000226167.1                 & 5.32221e-11                       & -0.513291                         & 0.0747756                         & Cells\\_Transformed\\_fibroblasts & 1                                 & 114445880                         & rs7513707                        \\\\\n",
       "\t 1\\_114448389\\_C\\_T\\_b37       & ENSG00000226167.1                 & 2.40206e-11                       & -0.526891                         & 0.0752834                         & Cells\\_Transformed\\_fibroblasts & 1                                 & 114448389                         & rs11552449                       \\\\\n",
       "\\end{tabular}\n"
      ],
      "text/markdown": [
       "\n",
       "| variant_id | gene_id | pval_nominal | slope | slope_se | tissue | chr | variant_pos | rsid |\n",
       "|---|---|---|---|---|---|---|---|---|\n",
       "| 1_114426001_G_A_b37           | ENSG00000226167.1             | 2.58854e-10                   | -0.498565                     | 0.0756303                     | Cells_Transformed_fibroblasts | 1                             | 114426001                     | rs11102694                    |\n",
       "| 1_114429461_G_A_b37           | ENSG00000226167.1             | 8.37389e-11                   | -0.510813                     | 0.0752620                     | Cells_Transformed_fibroblasts | 1                             | 114429461                     | rs2358994                     |\n",
       "| 1_114429515_A_C_b37           | ENSG00000226167.1             | 7.56856e-11                   | -0.513570                     | 0.0754759                     | Cells_Transformed_fibroblasts | 1                             | 114429515                     | rs2358995                     |\n",
       "| 1_114431463_G_A_b37           | ENSG00000226167.1             | 3.54926e-10                   | -0.495715                     | 0.0758333                     | Cells_Transformed_fibroblasts | 1                             | 114431463                     | rs7547478                     |\n",
       "| 1_114445880_G_A_b37           | ENSG00000226167.1             | 5.32221e-11                   | -0.513291                     | 0.0747756                     | Cells_Transformed_fibroblasts | 1                             | 114445880                     | rs7513707                     |\n",
       "| 1_114448389_C_T_b37           | ENSG00000226167.1             | 2.40206e-11                   | -0.526891                     | 0.0752834                     | Cells_Transformed_fibroblasts | 1                             | 114448389                     | rs11552449                    |\n",
       "\n"
      ],
      "text/plain": [
       "  variant_id          gene_id           pval_nominal slope     slope_se \n",
       "1 1_114426001_G_A_b37 ENSG00000226167.1 2.58854e-10  -0.498565 0.0756303\n",
       "2 1_114429461_G_A_b37 ENSG00000226167.1 8.37389e-11  -0.510813 0.0752620\n",
       "3 1_114429515_A_C_b37 ENSG00000226167.1 7.56856e-11  -0.513570 0.0754759\n",
       "4 1_114431463_G_A_b37 ENSG00000226167.1 3.54926e-10  -0.495715 0.0758333\n",
       "5 1_114445880_G_A_b37 ENSG00000226167.1 5.32221e-11  -0.513291 0.0747756\n",
       "6 1_114448389_C_T_b37 ENSG00000226167.1 2.40206e-11  -0.526891 0.0752834\n",
       "  tissue                        chr variant_pos rsid      \n",
       "1 Cells_Transformed_fibroblasts 1   114426001   rs11102694\n",
       "2 Cells_Transformed_fibroblasts 1   114429461   rs2358994 \n",
       "3 Cells_Transformed_fibroblasts 1   114429515   rs2358995 \n",
       "4 Cells_Transformed_fibroblasts 1   114431463   rs7547478 \n",
       "5 Cells_Transformed_fibroblasts 1   114445880   rs7513707 \n",
       "6 Cells_Transformed_fibroblasts 1   114448389   rs11552449"
      ]
     },
     "metadata": {},
     "output_type": "display_data"
    },
    {
     "name": "stdout",
     "output_type": "stream",
     "text": [
      "\n",
      "Job done: 2019-01-16 16:59:32 for 0 sec\n"
     ]
    }
   ],
   "source": [
    "source('src/pdtime.r')\n",
    "t0 = Sys.time()\n",
    "library(data.table)\n",
    "gtex = fread('data/gtex_5e-08_745.tsv')\n",
    "print(dim(dat)); head(dat)\n",
    "cat(paste0('\\n',pdtime(t0,1),'\\n'))"
   ]
  },
  {
   "cell_type": "code",
   "execution_count": 29,
   "metadata": {},
   "outputs": [
    {
     "data": {
      "text/html": [
       "<table>\n",
       "<thead><tr><th scope=col>rsid</th><th scope=col>tissue</th></tr></thead>\n",
       "<tbody>\n",
       "\t<tr><td>rs11102694                   </td><td>Cells_Transformed_fibroblasts</td></tr>\n",
       "\t<tr><td>rs2358994                    </td><td>Cells_Transformed_fibroblasts</td></tr>\n",
       "\t<tr><td>rs2358995                    </td><td>Cells_Transformed_fibroblasts</td></tr>\n",
       "</tbody>\n",
       "</table>\n"
      ],
      "text/latex": [
       "\\begin{tabular}{r|ll}\n",
       " rsid & tissue\\\\\n",
       "\\hline\n",
       "\t rs11102694                        & Cells\\_Transformed\\_fibroblasts\\\\\n",
       "\t rs2358994                         & Cells\\_Transformed\\_fibroblasts\\\\\n",
       "\t rs2358995                         & Cells\\_Transformed\\_fibroblasts\\\\\n",
       "\\end{tabular}\n"
      ],
      "text/markdown": [
       "\n",
       "| rsid | tissue |\n",
       "|---|---|\n",
       "| rs11102694                    | Cells_Transformed_fibroblasts |\n",
       "| rs2358994                     | Cells_Transformed_fibroblasts |\n",
       "| rs2358995                     | Cells_Transformed_fibroblasts |\n",
       "\n"
      ],
      "text/plain": [
       "  rsid       tissue                       \n",
       "1 rs11102694 Cells_Transformed_fibroblasts\n",
       "2 rs2358994  Cells_Transformed_fibroblasts\n",
       "3 rs2358995  Cells_Transformed_fibroblasts"
      ]
     },
     "metadata": {},
     "output_type": "display_data"
    },
    {
     "name": "stderr",
     "output_type": "stream",
     "text": [
      "`summarise_each()` is deprecated.\n",
      "Use `summarise_all()`, `summarise_at()` or `summarise_if()` instead.\n",
      "To map `funs` over all variables, use `summarise_all()`\n"
     ]
    },
    {
     "data": {
      "text/html": [
       "<table>\n",
       "<thead><tr><th scope=col>rsid</th><th scope=col>tissue</th></tr></thead>\n",
       "<tbody>\n",
       "\t<tr><td>rs1004446                                                                                                                                                                                                                                                                                                                                                                                                                 </td><td>Liver                                                                                                                                                                                                                                                                                                                                                                                                                     </td></tr>\n",
       "\t<tr><td>rs1008723                                                                                                                                                                                                                                                                                                                                                                                                                 </td><td>Artery_Tibial; Esophagus_Muscularis; Esophagus_Gastroesophageal_Junction; Spleen; Small_Intestine_Terminal_Ileum; Adipose_Visceral_Omentum; Cells_EBV-transformed_lymphocytes; Whole_Blood; Esophagus_Mucosa; Testis; Muscle_Skeletal; Pancreas; Whole_Blood; Colon_Transverse; Spleen; Stomach; Thyroid; Adipose_Subcutaneous; Nerve_Tibial; Heart_Left_Ventricle; Lung; Cells_EBV-transformed_lymphocytes; Lung; Stomach</td></tr>\n",
       "\t<tr><td>rs1013971                                                                                                                                                                                                                                                                                                                                                                                                                 </td><td>Adipose_Visceral_Omentum; Skin_Sun_Exposed_Lower_leg; Lung; Esophagus_Mucosa; Thyroid; Esophagus_Muscularis; Cells_Transformed_fibroblasts; Artery_Aorta; Stomach; Nerve_Tibial; Artery_Coronary; Esophagus_Gastroesophageal_Junction; Artery_Tibial; Adipose_Subcutaneous; Colon_Sigmoid; Adrenal_Gland; Esophagus_Mucosa; Skin_Not_Sun_Exposed_Suprapubic                                                               </td></tr>\n",
       "</tbody>\n",
       "</table>\n"
      ],
      "text/latex": [
       "\\begin{tabular}{r|ll}\n",
       " rsid & tissue\\\\\n",
       "\\hline\n",
       "\t rs1004446                                                                                                                                                                                                                                                                                                                                                                                                                  & Liver                                                                                                                                                                                                                                                                                                                                                                                                                     \\\\\n",
       "\t rs1008723                                                                                                                                                                                                                                                                                                                                                                                                                                                              & Artery\\_Tibial; Esophagus\\_Muscularis; Esophagus\\_Gastroesophageal\\_Junction; Spleen; Small\\_Intestine\\_Terminal\\_Ileum; Adipose\\_Visceral\\_Omentum; Cells\\_EBV-transformed\\_lymphocytes; Whole\\_Blood; Esophagus\\_Mucosa; Testis; Muscle\\_Skeletal; Pancreas; Whole\\_Blood; Colon\\_Transverse; Spleen; Stomach; Thyroid; Adipose\\_Subcutaneous; Nerve\\_Tibial; Heart\\_Left\\_Ventricle; Lung; Cells\\_EBV-transformed\\_lymphocytes; Lung; Stomach\\\\\n",
       "\t rs1013971                                                                                                                                                                                                                                                                                                                                                                                                                                                                  & Adipose\\_Visceral\\_Omentum; Skin\\_Sun\\_Exposed\\_Lower\\_leg; Lung; Esophagus\\_Mucosa; Thyroid; Esophagus\\_Muscularis; Cells\\_Transformed\\_fibroblasts; Artery\\_Aorta; Stomach; Nerve\\_Tibial; Artery\\_Coronary; Esophagus\\_Gastroesophageal\\_Junction; Artery\\_Tibial; Adipose\\_Subcutaneous; Colon\\_Sigmoid; Adrenal\\_Gland; Esophagus\\_Mucosa; Skin\\_Not\\_Sun\\_Exposed\\_Suprapubic                                                               \\\\\n",
       "\\end{tabular}\n"
      ],
      "text/markdown": [
       "\n",
       "| rsid | tissue |\n",
       "|---|---|\n",
       "| rs1004446                                                                                                                                                                                                                                                                                                                                                                                                                  | Liver                                                                                                                                                                                                                                                                                                                                                                                                                      |\n",
       "| rs1008723                                                                                                                                                                                                                                                                                                                                                                                                                  | Artery_Tibial; Esophagus_Muscularis; Esophagus_Gastroesophageal_Junction; Spleen; Small_Intestine_Terminal_Ileum; Adipose_Visceral_Omentum; Cells_EBV-transformed_lymphocytes; Whole_Blood; Esophagus_Mucosa; Testis; Muscle_Skeletal; Pancreas; Whole_Blood; Colon_Transverse; Spleen; Stomach; Thyroid; Adipose_Subcutaneous; Nerve_Tibial; Heart_Left_Ventricle; Lung; Cells_EBV-transformed_lymphocytes; Lung; Stomach |\n",
       "| rs1013971                                                                                                                                                                                                                                                                                                                                                                                                                  | Adipose_Visceral_Omentum; Skin_Sun_Exposed_Lower_leg; Lung; Esophagus_Mucosa; Thyroid; Esophagus_Muscularis; Cells_Transformed_fibroblasts; Artery_Aorta; Stomach; Nerve_Tibial; Artery_Coronary; Esophagus_Gastroesophageal_Junction; Artery_Tibial; Adipose_Subcutaneous; Colon_Sigmoid; Adrenal_Gland; Esophagus_Mucosa; Skin_Not_Sun_Exposed_Suprapubic                                                                |\n",
       "\n"
      ],
      "text/plain": [
       "  rsid     \n",
       "1 rs1004446\n",
       "2 rs1008723\n",
       "3 rs1013971\n",
       "  tissue                                                                                                                                                                                                                                                                                                                                                                                                                    \n",
       "1 Liver                                                                                                                                                                                                                                                                                                                                                                                                                     \n",
       "2 Artery_Tibial; Esophagus_Muscularis; Esophagus_Gastroesophageal_Junction; Spleen; Small_Intestine_Terminal_Ileum; Adipose_Visceral_Omentum; Cells_EBV-transformed_lymphocytes; Whole_Blood; Esophagus_Mucosa; Testis; Muscle_Skeletal; Pancreas; Whole_Blood; Colon_Transverse; Spleen; Stomach; Thyroid; Adipose_Subcutaneous; Nerve_Tibial; Heart_Left_Ventricle; Lung; Cells_EBV-transformed_lymphocytes; Lung; Stomach\n",
       "3 Adipose_Visceral_Omentum; Skin_Sun_Exposed_Lower_leg; Lung; Esophagus_Mucosa; Thyroid; Esophagus_Muscularis; Cells_Transformed_fibroblasts; Artery_Aorta; Stomach; Nerve_Tibial; Artery_Coronary; Esophagus_Gastroesophageal_Junction; Artery_Tibial; Adipose_Subcutaneous; Colon_Sigmoid; Adrenal_Gland; Esophagus_Mucosa; Skin_Not_Sun_Exposed_Suprapubic                                                               "
      ]
     },
     "metadata": {},
     "output_type": "display_data"
    }
   ],
   "source": [
    "library(dplyr)\n",
    "gtex_ = gtex[,c(9,6)]; head(gtex_,3)\n",
    "gtex_col = gtex_ %>%\n",
    "    group_by(rsid) %>%\n",
    "    summarise_each(funs(paste(.,collapse='; ')))\n",
    "head(gtex_col,3)"
   ]
  },
  {
   "cell_type": "markdown",
   "metadata": {},
   "source": [
    "rs1008723에 Whole_Blood가 두 개 있다?!"
   ]
  },
  {
   "cell_type": "markdown",
   "metadata": {},
   "source": [
    "# Generate random SNP sets"
   ]
  },
  {
   "cell_type": "code",
   "execution_count": 51,
   "metadata": {},
   "outputs": [
    {
     "name": "stdout",
     "output_type": "stream",
     "text": [
      "\n",
      "(2/3) Reading dbSNP data RDS files..\n",
      "\t(21/25) bed_chr_21.bed.rds, rows= 8348293 cols= 7, Job process: 7.8 sec\n",
      "\t(22/25) bed_chr_22.bed.rds, rows= 8374360 cols= 7, Job process: 11.7 sec\n",
      "\t(24/25) bed_chr_Y.bed.rds, rows= 468465 cols= 7, Job process: 11.9 sec\n",
      "\t(25/25) bed_chr_MT.bed.rds, rows= 2296 cols= 7, Job process: 11.9 sec\n",
      "\n",
      " >> SNP table, rows= 17193414 cols= 4\n",
      " >> Job process: 20 sec\n"
     ]
    }
   ],
   "source": [
    "suppressMessages(library(plyr))\n",
    "suppressMessages(library(data.table))\n",
    "source('src/pdtime.r')\n",
    "source('src/saveasrds.r')\n",
    "t0 = Sys.time()\n",
    "\n",
    "dir = 'db/dbSNP/'\n",
    "dir2 = 'random/'\n",
    "chr = c(1:22,'X','Y','MT')\n",
    "\n",
    "cat('\\n(2/3) Reading dbSNP data RDS files..\\n')\n",
    "f_name2 = paste0(dir,'bed_chr_',chr,'.bed.rds')\n",
    "n=length(f_name2)\n",
    "snp.li = lapply(c(21:22,24:25),function(i) {\n",
    "    f = f_name2[i]\n",
    "    if(file.exists(f)) {\n",
    "        tb = try(as.data.frame(readRDS(f)))\n",
    "        if('try-error' %in% class(tb)) stop('There is no dbSNP RDS files before this process.') # check no file error\n",
    "        cat(paste0('\\t(',i,'/',n,') ',\n",
    "               basename(f),', rows= ',dim(tb)[1],' cols= ',dim(tb)[2],', ',\n",
    "               pdtime(t0,2),'\\n'))\n",
    "        return(tb)\n",
    "    } else cat(paste0('None such file: ',f))\n",
    "})\n",
    "snp.df = ldply(snp.li,data.frame)[,c(1:3,6)] # plyr\n",
    "cat(paste0('\\n >> SNP table, rows= ',dim(snp.df)[1],' cols= ',dim(snp.df)[2],'\\n'))\n",
    "cat(paste0(' >> ',pdtime(t0,2),'\\n'))"
   ]
  },
  {
   "cell_type": "code",
   "execution_count": 125,
   "metadata": {},
   "outputs": [
    {
     "name": "stdout",
     "output_type": "stream",
     "text": [
      "\n",
      "(3/3) Generating random-sets of SNPs\n",
      "  - SNP_number = 1817\n",
      "  - SNP_set_number = 1\n",
      ">> File write: random/rsid1.bed\n"
     ]
    }
   ],
   "source": [
    "cat('\\n(3/3) Generating random-sets of SNPs\\n')\n",
    "n_snp = 1817\n",
    "n_snp_set = 1\n",
    "cat(paste0('  - SNP_number = ',n_snp,'\\n  - SNP_set_number = ',n_snp_set,'\\n'))\n",
    "t=lapply(c(1:n_snp_set),function(i) {\n",
    "\trd.row = sample(nrow(snp.df),n_snp)\n",
    "\trd.df  = snp.df[rd.row,]\n",
    "    #rd.df  = rd.df[sort(rownames(rd.df)),]\n",
    "    m=nrow(rd.df)\n",
    "    rd.li=lapply(c(1:m),function(j) {\n",
    "        row   = t(unname(rd.df[j,]))\n",
    "        row_2 = as.numeric(row[2])\n",
    "        row_3 = as.numeric(row[3])\n",
    "        if(row_3-row_2<0) {\n",
    "            row_ = c(row[c(1,3,2,4)],row_3-row_2)\n",
    "        } else {\n",
    "            row_ = c(row,row_3-row_2)\n",
    "        }\n",
    "        return(t(row_))\n",
    "    })\n",
    "    rd.df_ = ldply(rd.li,data.frame)\n",
    "    f_name = paste0(dir2,'rsid',i,'.bed')\n",
    "\twrite.table(rd.df_,f_name,row.names=F,col.names=F,quote=F,sep='\\t')\n",
    "    cat(paste0('>> File write: ',f_name,'\\n'))\n",
    "})"
   ]
  },
  {
   "cell_type": "markdown",
   "metadata": {},
   "source": [
    "# Random SNP iteration\n",
    "\n",
    "## 1. Prepare random SNP files"
   ]
  },
  {
   "cell_type": "code",
   "execution_count": 38,
   "metadata": {},
   "outputs": [
    {
     "name": "stdout",
     "output_type": "stream",
     "text": [
      ">> Job done: 2019-01-16 19:31:38 for 0.1 sec\n"
     ]
    }
   ],
   "source": [
    "library(data.table)\n",
    "source('src/pdtime.r')\n",
    "t0 = Sys.time()\n",
    "paths = paste0('random/rsid',c(1:10),'.bed')\n",
    "k=lapply(paths,function(path) {\n",
    "    df = fread(path,stringsAsFactors=F)\n",
    "    df[,3] = df[,3]-1\n",
    "    fname = paste0('random/new/rsid',c(1:10),'.bed')\n",
    "    fwrite(df,path,quote=F,\n",
    "           sep='\\t',col.names=F,row.names=F)\n",
    "})\n",
    "cat(paste0('>> ',pdtime(t0,1),'\\n'))"
   ]
  },
  {
   "cell_type": "markdown",
   "metadata": {},
   "source": [
    "## 2. Prepare roadmap command lines\n",
    "  - CMD: `dir > list.tsv`\n",
    "  - In excel, generate iterative `SHELL` command lines\n",
    "    - `bedtools closest -d -a random/rsid1.bed -b db/roadmap_enh_merge.bed > random/data/roadmap_rsid1.tsv`\n",
    "    - `bedtools closest -d -a random/rsid2.bed -b db/roadmap_enh_merge.bed > random/data/roadmap_rsid2.tsv`\n",
    "    - ...\n",
    "  - Save the command lines as `roadmap_random.sh` and run."
   ]
  },
  {
   "cell_type": "markdown",
   "metadata": {},
   "source": [
    "## 3. Run Roadmap analysis"
   ]
  },
  {
   "cell_type": "code",
   "execution_count": 139,
   "metadata": {},
   "outputs": [
    {
     "name": "stdout",
     "output_type": "stream",
     "text": [
      " (1/10)random/roadmap/roadmap_rsid1.tsv\n",
      " (2/10)random/roadmap/roadmap_rsid2.tsv\n",
      " (3/10)random/roadmap/roadmap_rsid3.tsv\n",
      " (4/10)random/roadmap/roadmap_rsid4.tsv\n",
      " (5/10)random/roadmap/roadmap_rsid5.tsv\n",
      " (6/10)random/roadmap/roadmap_rsid6.tsv\n",
      " (7/10)random/roadmap/roadmap_rsid7.tsv\n",
      " (8/10)random/roadmap/roadmap_rsid8.tsv\n",
      " (9/10)random/roadmap/roadmap_rsid9.tsv\n",
      " (10/10)random/roadmap/roadmap_rsid10.tsv\n",
      "\n",
      "File write: random/roadmap/random_dist.tsv\n",
      "\n",
      ">> Job done: 2019-01-18 18:33:55 for 20 min\n"
     ]
    }
   ],
   "source": [
    "rsid = c(1:10)\n",
    "path = paste0(dir,'roadmap_rsid',rsid,'.tsv')\n",
    "rd.li = list(); n = length(path)\n",
    "rd.li = lapply(c(1:n),function(i) {\n",
    "    # 1. Compiling SNP data distant from RoadMap enhancers\n",
    "    rd = as.data.frame(fread(path[i])) # data.table\n",
    "    cat(paste0(' (',i,'/',n,')',path[i],'\\n'))\n",
    "    pos  = unlist(apply(rd,1,function(x) paste0(x[6],':',x[7],'-',x[8])))\n",
    "    rd_  = cbind(rd[1:4],pos,rd[,9:10])\n",
    "    colnames(rd_) = c('chr','start','end','rsid','enh_pos','num','dist')\n",
    "    dis = as.numeric(as.character(rd_$dist))\n",
    "    rd.df = cbind(rd_[1:6],dis); head(rd.df)\n",
    "    \n",
    "    # 2. Filtering SNPs by distance of closest enhancers\n",
    "    rd.df_ = unique(subset(rd.df,dis==0))\n",
    "    rd.df_snp = length(unique(rd.df_$rsid))\n",
    "    rd.df_enh = length(unique(rd.df_$enh_pos))\n",
    "    \n",
    "    rd.row = c(basename(path[i]),rd.df_snp,rd.df_enh)\n",
    "    return(t(rd.row))\n",
    "})\n",
    "rd.df_ = ldply(rd.li,data.frame) # plyr\n",
    "colnames(rd.df_) = c('random','SNP_n','Enh_n')\n",
    "                  \n",
    "f.path = paste0(dir,'random_dist.tsv')\n",
    "write.table(rd.df_,f.path,row.names=F,quote=F,sep='\\t')\n",
    "cat(paste0('\\nFile write: ',f.path,'\\n'))\n",
    "cat(paste0('\\n>> ',pdtime(t0,1),'\\n'))"
   ]
  }
 ],
 "metadata": {
  "kernelspec": {
   "display_name": "R",
   "language": "R",
   "name": "ir"
  },
  "language_info": {
   "codemirror_mode": "r",
   "file_extension": ".r",
   "mimetype": "text/x-r-source",
   "name": "R",
   "pygments_lexer": "r",
   "version": "3.5.1"
  }
 },
 "nbformat": 4,
 "nbformat_minor": 2
}
